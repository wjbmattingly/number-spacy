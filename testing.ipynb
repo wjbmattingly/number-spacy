{
 "cells": [
  {
   "cell_type": "code",
   "execution_count": 1,
   "metadata": {},
   "outputs": [],
   "source": [
    "import spacy\n",
    "from number_spacy import find_numbers"
   ]
  },
  {
   "cell_type": "code",
   "execution_count": 7,
   "metadata": {},
   "outputs": [
    {
     "name": "stdout",
     "output_type": "stream",
     "text": [
      "Twelve 12\n",
      "Two hundred and fifty million five hundred and twenty 250000520\n"
     ]
    }
   ],
   "source": [
    "text = \"Twelve of the people we met are here. Two hundred and fifty million five hundred and twenty people are outside.\"\n",
    "nlp = spacy.blank(\"en\")\n",
    "nlp.add_pipe(\"find_numbers\")\n",
    "doc =  nlp(text)\n",
    "for ent in doc.ents:\n",
    "    print(ent.text, ent._.number)"
   ]
  },
  {
   "cell_type": "code",
   "execution_count": null,
   "metadata": {},
   "outputs": [],
   "source": []
  }
 ],
 "metadata": {
  "kernelspec": {
   "display_name": "words",
   "language": "python",
   "name": "python3"
  },
  "language_info": {
   "codemirror_mode": {
    "name": "ipython",
    "version": 3
   },
   "file_extension": ".py",
   "mimetype": "text/x-python",
   "name": "python",
   "nbconvert_exporter": "python",
   "pygments_lexer": "ipython3",
   "version": "3.10.12"
  },
  "orig_nbformat": 4
 },
 "nbformat": 4,
 "nbformat_minor": 2
}
